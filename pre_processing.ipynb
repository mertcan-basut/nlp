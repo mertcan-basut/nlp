{
  "nbformat": 4,
  "nbformat_minor": 0,
  "metadata": {
    "colab": {
      "provenance": [],
      "history_visible": true,
      "include_colab_link": true
    },
    "kernelspec": {
      "name": "python3",
      "display_name": "Python 3"
    },
    "language_info": {
      "name": "python"
    }
  },
  "cells": [
    {
      "cell_type": "markdown",
      "metadata": {
        "id": "view-in-github",
        "colab_type": "text"
      },
      "source": [
        "<a href=\"https://colab.research.google.com/github/mertcan-basut/nlp/blob/main/pre_processing.ipynb\" target=\"_parent\"><img src=\"https://colab.research.google.com/assets/colab-badge.svg\" alt=\"Open In Colab\"/></a>"
      ]
    },
    {
      "cell_type": "code",
      "source": [
        "# install packages\n",
        "!pip install -q opendatasets"
      ],
      "metadata": {
        "id": "ZqsAX2elDvW6"
      },
      "execution_count": null,
      "outputs": []
    },
    {
      "cell_type": "code",
      "execution_count": null,
      "metadata": {
        "id": "nSJgyY0UfsKd"
      },
      "outputs": [],
      "source": [
        "import opendatasets as od # download datasets\n",
        "\n",
        "import pandas as pd\n",
        "\n",
        "import re # regular expressions\n",
        "from string import punctuation\n",
        "from unicodedata import normalize"
      ]
    },
    {
      "cell_type": "code",
      "source": [
        "# get data and load it into a dataframe\n",
        "od.download(\"https://www.kaggle.com/datasets/nicapotato/womens-ecommerce-clothing-reviews\")\n",
        "\n",
        "data = pd.read_csv(\"womens-ecommerce-clothing-reviews/Womens Clothing E-Commerce Reviews.csv\")\n",
        "reviews = data[[\"Review Text\", \"Recommended IND\"]].dropna().rename(columns={\"Review Text\": \"review\", \"Recommended IND\": \"label\"})\n",
        "\n",
        "reviews.head()"
      ],
      "metadata": {
        "colab": {
          "base_uri": "https://localhost:8080/",
          "height": 310
        },
        "id": "aGiqxO_nDc1E",
        "outputId": "ad585f8f-1621-47d2-f8d1-194e62f405a0"
      },
      "execution_count": null,
      "outputs": [
        {
          "output_type": "stream",
          "name": "stdout",
          "text": [
            "Please provide your Kaggle credentials to download this dataset. Learn more: http://bit.ly/kaggle-creds\n",
            "Your Kaggle username: mertcanbasut01\n",
            "Your Kaggle Key: ··········\n",
            "Downloading womens-ecommerce-clothing-reviews.zip to ./womens-ecommerce-clothing-reviews\n"
          ]
        },
        {
          "output_type": "stream",
          "name": "stderr",
          "text": [
            "100%|██████████| 2.79M/2.79M [00:00<00:00, 4.49MB/s]\n"
          ]
        },
        {
          "output_type": "stream",
          "name": "stdout",
          "text": [
            "\n"
          ]
        },
        {
          "output_type": "execute_result",
          "data": {
            "text/plain": [
              "                                              review  label\n",
              "0  Absolutely wonderful - silky and sexy and comf...      1\n",
              "1  Love this dress!  it's sooo pretty.  i happene...      1\n",
              "2  I had such high hopes for this dress and reall...      0\n",
              "3  I love, love, love this jumpsuit. it's fun, fl...      1\n",
              "4  This shirt is very flattering to all due to th...      1"
            ],
            "text/html": [
              "\n",
              "  <div id=\"df-150ab2ec-7d88-497b-9796-e155d943c02c\" class=\"colab-df-container\">\n",
              "    <div>\n",
              "<style scoped>\n",
              "    .dataframe tbody tr th:only-of-type {\n",
              "        vertical-align: middle;\n",
              "    }\n",
              "\n",
              "    .dataframe tbody tr th {\n",
              "        vertical-align: top;\n",
              "    }\n",
              "\n",
              "    .dataframe thead th {\n",
              "        text-align: right;\n",
              "    }\n",
              "</style>\n",
              "<table border=\"1\" class=\"dataframe\">\n",
              "  <thead>\n",
              "    <tr style=\"text-align: right;\">\n",
              "      <th></th>\n",
              "      <th>review</th>\n",
              "      <th>label</th>\n",
              "    </tr>\n",
              "  </thead>\n",
              "  <tbody>\n",
              "    <tr>\n",
              "      <th>0</th>\n",
              "      <td>Absolutely wonderful - silky and sexy and comf...</td>\n",
              "      <td>1</td>\n",
              "    </tr>\n",
              "    <tr>\n",
              "      <th>1</th>\n",
              "      <td>Love this dress!  it's sooo pretty.  i happene...</td>\n",
              "      <td>1</td>\n",
              "    </tr>\n",
              "    <tr>\n",
              "      <th>2</th>\n",
              "      <td>I had such high hopes for this dress and reall...</td>\n",
              "      <td>0</td>\n",
              "    </tr>\n",
              "    <tr>\n",
              "      <th>3</th>\n",
              "      <td>I love, love, love this jumpsuit. it's fun, fl...</td>\n",
              "      <td>1</td>\n",
              "    </tr>\n",
              "    <tr>\n",
              "      <th>4</th>\n",
              "      <td>This shirt is very flattering to all due to th...</td>\n",
              "      <td>1</td>\n",
              "    </tr>\n",
              "  </tbody>\n",
              "</table>\n",
              "</div>\n",
              "    <div class=\"colab-df-buttons\">\n",
              "\n",
              "  <div class=\"colab-df-container\">\n",
              "    <button class=\"colab-df-convert\" onclick=\"convertToInteractive('df-150ab2ec-7d88-497b-9796-e155d943c02c')\"\n",
              "            title=\"Convert this dataframe to an interactive table.\"\n",
              "            style=\"display:none;\">\n",
              "\n",
              "  <svg xmlns=\"http://www.w3.org/2000/svg\" height=\"24px\" viewBox=\"0 -960 960 960\">\n",
              "    <path d=\"M120-120v-720h720v720H120Zm60-500h600v-160H180v160Zm220 220h160v-160H400v160Zm0 220h160v-160H400v160ZM180-400h160v-160H180v160Zm440 0h160v-160H620v160ZM180-180h160v-160H180v160Zm440 0h160v-160H620v160Z\"/>\n",
              "  </svg>\n",
              "    </button>\n",
              "\n",
              "  <style>\n",
              "    .colab-df-container {\n",
              "      display:flex;\n",
              "      gap: 12px;\n",
              "    }\n",
              "\n",
              "    .colab-df-convert {\n",
              "      background-color: #E8F0FE;\n",
              "      border: none;\n",
              "      border-radius: 50%;\n",
              "      cursor: pointer;\n",
              "      display: none;\n",
              "      fill: #1967D2;\n",
              "      height: 32px;\n",
              "      padding: 0 0 0 0;\n",
              "      width: 32px;\n",
              "    }\n",
              "\n",
              "    .colab-df-convert:hover {\n",
              "      background-color: #E2EBFA;\n",
              "      box-shadow: 0px 1px 2px rgba(60, 64, 67, 0.3), 0px 1px 3px 1px rgba(60, 64, 67, 0.15);\n",
              "      fill: #174EA6;\n",
              "    }\n",
              "\n",
              "    .colab-df-buttons div {\n",
              "      margin-bottom: 4px;\n",
              "    }\n",
              "\n",
              "    [theme=dark] .colab-df-convert {\n",
              "      background-color: #3B4455;\n",
              "      fill: #D2E3FC;\n",
              "    }\n",
              "\n",
              "    [theme=dark] .colab-df-convert:hover {\n",
              "      background-color: #434B5C;\n",
              "      box-shadow: 0px 1px 3px 1px rgba(0, 0, 0, 0.15);\n",
              "      filter: drop-shadow(0px 1px 2px rgba(0, 0, 0, 0.3));\n",
              "      fill: #FFFFFF;\n",
              "    }\n",
              "  </style>\n",
              "\n",
              "    <script>\n",
              "      const buttonEl =\n",
              "        document.querySelector('#df-150ab2ec-7d88-497b-9796-e155d943c02c button.colab-df-convert');\n",
              "      buttonEl.style.display =\n",
              "        google.colab.kernel.accessAllowed ? 'block' : 'none';\n",
              "\n",
              "      async function convertToInteractive(key) {\n",
              "        const element = document.querySelector('#df-150ab2ec-7d88-497b-9796-e155d943c02c');\n",
              "        const dataTable =\n",
              "          await google.colab.kernel.invokeFunction('convertToInteractive',\n",
              "                                                    [key], {});\n",
              "        if (!dataTable) return;\n",
              "\n",
              "        const docLinkHtml = 'Like what you see? Visit the ' +\n",
              "          '<a target=\"_blank\" href=https://colab.research.google.com/notebooks/data_table.ipynb>data table notebook</a>'\n",
              "          + ' to learn more about interactive tables.';\n",
              "        element.innerHTML = '';\n",
              "        dataTable['output_type'] = 'display_data';\n",
              "        await google.colab.output.renderOutput(dataTable, element);\n",
              "        const docLink = document.createElement('div');\n",
              "        docLink.innerHTML = docLinkHtml;\n",
              "        element.appendChild(docLink);\n",
              "      }\n",
              "    </script>\n",
              "  </div>\n",
              "\n",
              "\n",
              "<div id=\"df-83a00f6f-1cf5-4702-b89e-161557e87b8b\">\n",
              "  <button class=\"colab-df-quickchart\" onclick=\"quickchart('df-83a00f6f-1cf5-4702-b89e-161557e87b8b')\"\n",
              "            title=\"Suggest charts\"\n",
              "            style=\"display:none;\">\n",
              "\n",
              "<svg xmlns=\"http://www.w3.org/2000/svg\" height=\"24px\"viewBox=\"0 0 24 24\"\n",
              "     width=\"24px\">\n",
              "    <g>\n",
              "        <path d=\"M19 3H5c-1.1 0-2 .9-2 2v14c0 1.1.9 2 2 2h14c1.1 0 2-.9 2-2V5c0-1.1-.9-2-2-2zM9 17H7v-7h2v7zm4 0h-2V7h2v10zm4 0h-2v-4h2v4z\"/>\n",
              "    </g>\n",
              "</svg>\n",
              "  </button>\n",
              "\n",
              "<style>\n",
              "  .colab-df-quickchart {\n",
              "      --bg-color: #E8F0FE;\n",
              "      --fill-color: #1967D2;\n",
              "      --hover-bg-color: #E2EBFA;\n",
              "      --hover-fill-color: #174EA6;\n",
              "      --disabled-fill-color: #AAA;\n",
              "      --disabled-bg-color: #DDD;\n",
              "  }\n",
              "\n",
              "  [theme=dark] .colab-df-quickchart {\n",
              "      --bg-color: #3B4455;\n",
              "      --fill-color: #D2E3FC;\n",
              "      --hover-bg-color: #434B5C;\n",
              "      --hover-fill-color: #FFFFFF;\n",
              "      --disabled-bg-color: #3B4455;\n",
              "      --disabled-fill-color: #666;\n",
              "  }\n",
              "\n",
              "  .colab-df-quickchart {\n",
              "    background-color: var(--bg-color);\n",
              "    border: none;\n",
              "    border-radius: 50%;\n",
              "    cursor: pointer;\n",
              "    display: none;\n",
              "    fill: var(--fill-color);\n",
              "    height: 32px;\n",
              "    padding: 0;\n",
              "    width: 32px;\n",
              "  }\n",
              "\n",
              "  .colab-df-quickchart:hover {\n",
              "    background-color: var(--hover-bg-color);\n",
              "    box-shadow: 0 1px 2px rgba(60, 64, 67, 0.3), 0 1px 3px 1px rgba(60, 64, 67, 0.15);\n",
              "    fill: var(--button-hover-fill-color);\n",
              "  }\n",
              "\n",
              "  .colab-df-quickchart-complete:disabled,\n",
              "  .colab-df-quickchart-complete:disabled:hover {\n",
              "    background-color: var(--disabled-bg-color);\n",
              "    fill: var(--disabled-fill-color);\n",
              "    box-shadow: none;\n",
              "  }\n",
              "\n",
              "  .colab-df-spinner {\n",
              "    border: 2px solid var(--fill-color);\n",
              "    border-color: transparent;\n",
              "    border-bottom-color: var(--fill-color);\n",
              "    animation:\n",
              "      spin 1s steps(1) infinite;\n",
              "  }\n",
              "\n",
              "  @keyframes spin {\n",
              "    0% {\n",
              "      border-color: transparent;\n",
              "      border-bottom-color: var(--fill-color);\n",
              "      border-left-color: var(--fill-color);\n",
              "    }\n",
              "    20% {\n",
              "      border-color: transparent;\n",
              "      border-left-color: var(--fill-color);\n",
              "      border-top-color: var(--fill-color);\n",
              "    }\n",
              "    30% {\n",
              "      border-color: transparent;\n",
              "      border-left-color: var(--fill-color);\n",
              "      border-top-color: var(--fill-color);\n",
              "      border-right-color: var(--fill-color);\n",
              "    }\n",
              "    40% {\n",
              "      border-color: transparent;\n",
              "      border-right-color: var(--fill-color);\n",
              "      border-top-color: var(--fill-color);\n",
              "    }\n",
              "    60% {\n",
              "      border-color: transparent;\n",
              "      border-right-color: var(--fill-color);\n",
              "    }\n",
              "    80% {\n",
              "      border-color: transparent;\n",
              "      border-right-color: var(--fill-color);\n",
              "      border-bottom-color: var(--fill-color);\n",
              "    }\n",
              "    90% {\n",
              "      border-color: transparent;\n",
              "      border-bottom-color: var(--fill-color);\n",
              "    }\n",
              "  }\n",
              "</style>\n",
              "\n",
              "  <script>\n",
              "    async function quickchart(key) {\n",
              "      const quickchartButtonEl =\n",
              "        document.querySelector('#' + key + ' button');\n",
              "      quickchartButtonEl.disabled = true;  // To prevent multiple clicks.\n",
              "      quickchartButtonEl.classList.add('colab-df-spinner');\n",
              "      try {\n",
              "        const charts = await google.colab.kernel.invokeFunction(\n",
              "            'suggestCharts', [key], {});\n",
              "      } catch (error) {\n",
              "        console.error('Error during call to suggestCharts:', error);\n",
              "      }\n",
              "      quickchartButtonEl.classList.remove('colab-df-spinner');\n",
              "      quickchartButtonEl.classList.add('colab-df-quickchart-complete');\n",
              "    }\n",
              "    (() => {\n",
              "      let quickchartButtonEl =\n",
              "        document.querySelector('#df-83a00f6f-1cf5-4702-b89e-161557e87b8b button');\n",
              "      quickchartButtonEl.style.display =\n",
              "        google.colab.kernel.accessAllowed ? 'block' : 'none';\n",
              "    })();\n",
              "  </script>\n",
              "</div>\n",
              "\n",
              "    </div>\n",
              "  </div>\n"
            ],
            "application/vnd.google.colaboratory.intrinsic+json": {
              "type": "dataframe",
              "variable_name": "reviews",
              "summary": "{\n  \"name\": \"reviews\",\n  \"rows\": 22641,\n  \"fields\": [\n    {\n      \"column\": \"review\",\n      \"properties\": {\n        \"dtype\": \"string\",\n        \"samples\": [\n          \"This top is really pretty and nice quality. runs big - i went down a size, and its perfect. coloring is more subtle in person than in the photo.\",\n          \"I was so excited to splurge on a mara hoffman suit and was sorely disappointed when i received this suit in the mail. i'm petite and fairly curvy, so i knew it would likely be a little long in the torso but the whole suit was so oddly shaped, i couldn't imagine anyone it would fit. the square shape in between the halter pieces is awkward, and the pieces that are supposed to hold your chest are super wide and loose.\",\n          \"Got so many complements! really comfy but runs big! i'm usually a large and i wish i had gotten the small.\"\n        ],\n        \"num_unique_values\": 22634,\n        \"semantic_type\": \"\",\n        \"description\": \"\"\n      }\n    },\n    {\n      \"column\": \"label\",\n      \"properties\": {\n        \"dtype\": \"number\",\n        \"std\": 0,\n        \"min\": 0,\n        \"max\": 1,\n        \"samples\": [\n          0,\n          1\n        ],\n        \"num_unique_values\": 2,\n        \"semantic_type\": \"\",\n        \"description\": \"\"\n      }\n    }\n  ]\n}"
            }
          },
          "metadata": {},
          "execution_count": 3
        }
      ]
    },
    {
      "cell_type": "markdown",
      "source": [
        "# Text Cleaning and Normalization"
      ],
      "metadata": {
        "id": "ktWF7GAXuPXs"
      }
    },
    {
      "cell_type": "markdown",
      "source": [
        "## Converting to lowercase\n",
        "\n",
        "Python is a case sensitive programming language, therefore converting to lowercase is a common pre-processing step for text normalization."
      ],
      "metadata": {
        "id": "WM-UFHPKY_2K"
      }
    },
    {
      "cell_type": "code",
      "source": [
        "text = reviews.sample(1)[\"review\"].values[0]\n",
        "\n",
        "to_lowercase = lambda text: text.lower()\n",
        "\n",
        "transformed_text = to_lowercase(text)\n",
        "\n",
        "print(f\"{'Text':=^50}\\n{text}\\n\\n{'Transformed Text':=^50}\\n{transformed_text}\")\n",
        "\n",
        "reviews[\"review\"] = reviews[\"review\"].str.lower()"
      ],
      "metadata": {
        "colab": {
          "base_uri": "https://localhost:8080/"
        },
        "id": "WVDGoFRDIWT3",
        "outputId": "aa7d8f4d-728a-434e-a7bf-80869b12a40c"
      },
      "execution_count": null,
      "outputs": [
        {
          "output_type": "stream",
          "name": "stdout",
          "text": [
            "=======================Text=======================\n",
            "Beautiful dress; i ended up getting it in both the red and the green. the fit is absolutely perfect and it flatters pretty much any figure. one thing i would say is that you should get your exact size if possible; i ordered it online because it was so pretty in the 4p. i happened to be in the store the next week and i ttried on the 4r in the store just to see how it looked and it was awful! i was so disappointed but then my dress arrived in the mail and the 4p fit me perfectly. i'm so glad retailer\n",
            "\n",
            "=================Transformed Text=================\n",
            "beautiful dress; i ended up getting it in both the red and the green. the fit is absolutely perfect and it flatters pretty much any figure. one thing i would say is that you should get your exact size if possible; i ordered it online because it was so pretty in the 4p. i happened to be in the store the next week and i ttried on the 4r in the store just to see how it looked and it was awful! i was so disappointed but then my dress arrived in the mail and the 4p fit me perfectly. i'm so glad retailer\n"
          ]
        }
      ]
    },
    {
      "cell_type": "markdown",
      "source": [
        "## Removing URLs\n",
        "\n",
        "URLs are typically not relevant and can be removed from the text data."
      ],
      "metadata": {
        "id": "Q-ipedXCepGK"
      }
    },
    {
      "cell_type": "code",
      "source": [
        "text = \"This is the dataset URL: https://www.kaggle.com/datasets/nicapotato/womens-ecommerce-clothing-reviews\"\n",
        "\n",
        "def remove_urls(text, replacement_text=''):\n",
        "  regex_pattern = re.compile(r'https?://\\S+|www\\.\\S+') # define a regex pattern to match URLs\n",
        "  transformed_text = regex_pattern.sub(replacement_text, text) # replace URLs with the specified replacement text\n",
        "\n",
        "  return transformed_text\n",
        "\n",
        "transformed_text = remove_urls(text)\n",
        "\n",
        "print(f\"{'Text':=^50}\\n{text}\\n\\n{'Transformed Text':=^50}\\n{transformed_text}\")\n",
        "\n",
        "reviews[\"review\"] = reviews[\"review\"].str.replace(r'https?://\\S+|www\\.\\S+', '', regex=True)"
      ],
      "metadata": {
        "colab": {
          "base_uri": "https://localhost:8080/"
        },
        "id": "lOVV2VHGZbgi",
        "outputId": "be6d7c1d-e674-44bc-e836-1406effe1c3c"
      },
      "execution_count": null,
      "outputs": [
        {
          "output_type": "stream",
          "name": "stdout",
          "text": [
            "=======================Text=======================\n",
            "This is the dataset URL: https://www.kaggle.com/datasets/nicapotato/womens-ecommerce-clothing-reviews\n",
            "\n",
            "=================Transformed Text=================\n",
            "This is the dataset URL: \n"
          ]
        }
      ]
    },
    {
      "cell_type": "markdown",
      "source": [
        "## Removing punctuation"
      ],
      "metadata": {
        "id": "fkYObAxq5xLp"
      }
    },
    {
      "cell_type": "code",
      "source": [
        "text = \"This İs an✨, example-text_ 1 docğument.\\n :) ❤️ I've felt %100 AMAZING!!!  ㅋㅋㅋㅋ <3é \"\n",
        "\n",
        "def remove_punctuation(text):\n",
        "  transformed_text = re.sub(r'[^\\w\\s]|[_]', \" \", text) # non-word and non-whitespace characters\n",
        "\n",
        "  return transformed_text\n",
        "\n",
        "transformed_text = remove_punctuation(text)\n",
        "\n",
        "print(f\"{'Text':=^50}\\n{text}\\n\\n{'Transformed Text':=^50}\\n{transformed_text}\")"
      ],
      "metadata": {
        "colab": {
          "base_uri": "https://localhost:8080/"
        },
        "id": "hyltmYvtz5_6",
        "outputId": "0aa0aac2-bb78-436e-ec3c-0816ea7639f3"
      },
      "execution_count": null,
      "outputs": [
        {
          "output_type": "stream",
          "name": "stdout",
          "text": [
            "=======================Text=======================\n",
            "This İs an✨, example-text_ 1 docğument.\n",
            " :) ❤️ I've felt %100 AMAZING!!!  ㅋㅋㅋㅋ <3é \n",
            "\n",
            "=================Transformed Text=================\n",
            "This İs an   example text  1 docğument \n",
            "       I ve felt  100 AMAZING     ㅋㅋㅋㅋ  3é \n"
          ]
        }
      ]
    },
    {
      "cell_type": "code",
      "source": [
        "# remove tabs or newlines etc\n",
        "# punctuations (remove)\n",
        "# numbers (translate into text[] or leave or remove) kalktı\n",
        "# ~~emojis or special words (preserve while doing all cleaning)\n",
        "# non-ascii characters (lossy decode and remove words containing them at the start) (removing accents, strict or lossy)\n",
        "# birleşik kelimeler underscore ile bağlı\n",
        "# boşluk silme en son\n",
        "# i've gibi kelimeleri i have şeklinde düzeltme (özel look-up table ya da dict) (make trans ile sözlük yapılabilir hem dönüştürmeye hem de removelamaya yarıyor)\n",
        "# typos (correct at the end)"
      ],
      "metadata": {
        "id": "rtB9YyW2Es9c"
      },
      "execution_count": null,
      "outputs": []
    },
    {
      "cell_type": "code",
      "source": [
        "from string import punctuation\n",
        "punctuation"
      ],
      "metadata": {
        "colab": {
          "base_uri": "https://localhost:8080/",
          "height": 35
        },
        "id": "XoPysXCy6yKJ",
        "outputId": "cde4e8af-3dd3-41ae-8714-5c5736c04e3a"
      },
      "execution_count": null,
      "outputs": [
        {
          "output_type": "execute_result",
          "data": {
            "text/plain": [
              "'!\"#$%&\\'()*+,-./:;<=>?@[\\\\]^_`{|}~'"
            ],
            "application/vnd.google.colaboratory.intrinsic+json": {
              "type": "string"
            }
          },
          "metadata": {},
          "execution_count": 12
        }
      ]
    },
    {
      "cell_type": "code",
      "source": [
        "# nfkd ascii ve utf8 açıkla\n",
        "import unicodedata\n",
        "unicodedata.normalize('NFKD', \"Ğafİrㅋㅋㅋㅋ\").encode('ascii', 'ignore').decode('utf-8')"
      ],
      "metadata": {
        "colab": {
          "base_uri": "https://localhost:8080/",
          "height": 36
        },
        "id": "PVUA3bDnKouJ",
        "outputId": "732fceb7-484c-40ac-8793-fb9cf74960b0"
      },
      "execution_count": null,
      "outputs": [
        {
          "output_type": "execute_result",
          "data": {
            "text/plain": [
              "'GafIr'"
            ],
            "application/vnd.google.colaboratory.intrinsic+json": {
              "type": "string"
            }
          },
          "metadata": {},
          "execution_count": 4
        }
      ]
    },
    {
      "cell_type": "markdown",
      "source": [
        "## Removing excess whitespace\n",
        "\n",
        "Strip trailing, leading, and excess whitespaces away."
      ],
      "metadata": {
        "id": "Kgh99dW7zfel"
      }
    },
    {
      "cell_type": "code",
      "source": [
        "text = \"  This is   an,  exampl e text document. \"\n",
        "\n",
        "def strip_whitespace(text):\n",
        "  transformed_text = text.strip() # strip trailing and leading whitespaces\n",
        "  transformed_text = re.sub(r'\\s\\s+', \" \", transformed_text) # remove whitespaces that are multiple characters long\n",
        "\n",
        "  return transformed_text\n",
        "\n",
        "transformed_text = strip_whitespace(text)\n",
        "\n",
        "print(f\"{'Text':=^50}\\n{text}\\n\\n{'Transformed Text':=^50}\\n{transformed_text}\")\n",
        "\n",
        "reviews[\"review\"] = reviews[\"review\"].str.strip()\n",
        "reviews[\"review\"] = reviews[\"review\"].str.replace(r'\\s\\s+', \" \", regex=True)"
      ],
      "metadata": {
        "colab": {
          "base_uri": "https://localhost:8080/"
        },
        "id": "hJVt_5_cwetX",
        "outputId": "72f4ac81-f58c-4d12-a78b-85622b1b1e1c"
      },
      "execution_count": null,
      "outputs": [
        {
          "output_type": "stream",
          "name": "stdout",
          "text": [
            "=======================Text=======================\n",
            "  This is   an,  exampl e text document. \n",
            "\n",
            "=================Transformed Text=================\n",
            "This is an, exampl e text document.\n"
          ]
        }
      ]
    },
    {
      "cell_type": "markdown",
      "source": [
        "# tokenization/lematization"
      ],
      "metadata": {
        "id": "FDvsb71wQdlj"
      }
    },
    {
      "cell_type": "code",
      "source": [
        "# tokenization/lematization\n",
        "# stopwrod removal"
      ],
      "metadata": {
        "id": "KxTtRWE_P-yO"
      },
      "execution_count": null,
      "outputs": []
    },
    {
      "cell_type": "markdown",
      "source": [
        "# References\n",
        "\n",
        "-"
      ],
      "metadata": {
        "id": "b4hQ7Ru1QP-z"
      }
    }
  ]
}
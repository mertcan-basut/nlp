{
  "nbformat": 4,
  "nbformat_minor": 0,
  "metadata": {
    "colab": {
      "provenance": [],
      "authorship_tag": "ABX9TyPMnn5AiKSVMaH1wUzWrWOG",
      "include_colab_link": true
    },
    "kernelspec": {
      "name": "python3",
      "display_name": "Python 3"
    },
    "language_info": {
      "name": "python"
    }
  },
  "cells": [
    {
      "cell_type": "markdown",
      "metadata": {
        "id": "view-in-github",
        "colab_type": "text"
      },
      "source": [
        "<a href=\"https://colab.research.google.com/github/mertcan-basut/nlp/blob/main/translation.ipynb\" target=\"_parent\"><img src=\"https://colab.research.google.com/assets/colab-badge.svg\" alt=\"Open In Colab\"/></a>"
      ]
    },
    {
      "cell_type": "code",
      "execution_count": 1,
      "metadata": {
        "id": "CBiOvD_pW1vR"
      },
      "outputs": [],
      "source": [
        "!echo \"AZURE_OPENAI_API_KEY=editme\" > .env\n",
        "!echo \"AZURE_OPENAI_ENDPOINT=editme\" >> .env\n",
        "!echo \"OPENAI_API_VERSION=editme\" >> .env"
      ]
    },
    {
      "cell_type": "code",
      "source": [
        "!pip install -q langchain langchain-openai\n",
        "!pip install -q python-dotenv"
      ],
      "metadata": {
        "id": "7VhDMFH4YmAI"
      },
      "execution_count": null,
      "outputs": []
    },
    {
      "cell_type": "code",
      "source": [
        "from langchain.output_parsers import ResponseSchema, StructuredOutputParser\n",
        "from langchain.prompts import PromptTemplate\n",
        "from langchain_openai.chat_models import AzureChatOpenAI\n",
        "\n",
        "from dotenv import load_dotenv, find_dotenv\n",
        "_ = load_dotenv(find_dotenv(), override=True) # read local .env file"
      ],
      "metadata": {
        "id": "PwYYvA3WYf0G"
      },
      "execution_count": 57,
      "outputs": []
    },
    {
      "cell_type": "code",
      "source": [
        "output_parser = StructuredOutputParser.from_response_schemas([\n",
        "  ResponseSchema(\n",
        "    name='org_lang',\n",
        "    type='string',\n",
        "    description=\"Detected language of the provided text.\"\n",
        "  ),\n",
        "  ResponseSchema(\n",
        "    name='translation',\n",
        "    type='string',\n",
        "    description=\"Translation of the given text into the desired destination language.\"\n",
        "  ),\n",
        "  ResponseSchema(\n",
        "    name='dest_lang',\n",
        "    type='string',\n",
        "    description=\"Desired destination language, to translate the given text into.\"\n",
        "  )\n",
        "])"
      ],
      "metadata": {
        "id": "xXRiFUlCmHtS"
      },
      "execution_count": 175,
      "outputs": []
    },
    {
      "cell_type": "code",
      "source": [
        "PROMPT = \"\"\"For the provided text below, detect which language it is written \\\n",
        "in and translate it to the desired destination language. If the text is \\\n",
        "already written in the destination language, return the text as the \\\n",
        "`translation` without any modifications.\n",
        "\n",
        "Text: {text}\n",
        "Destination language: {dest_lang}\n",
        "\n",
        "{format_instructions}\"\"\"\n",
        "\n",
        "prompt = PromptTemplate.from_template(PROMPT, partial_variables={'format_instructions': output_parser.get_format_instructions()})"
      ],
      "metadata": {
        "id": "niILRUy7hP6c"
      },
      "execution_count": 176,
      "outputs": []
    },
    {
      "cell_type": "code",
      "source": [
        "llm = AzureChatOpenAI(model=\"gpt-35-turbo\", temperature=0.0)\n",
        "llm.predict(\"Hello!\")"
      ],
      "metadata": {
        "colab": {
          "base_uri": "https://localhost:8080/",
          "height": 36
        },
        "id": "FcC8Y2PNZAqX",
        "outputId": "3dff8249-1c7f-4f99-e4a9-94266c36de09"
      },
      "execution_count": 177,
      "outputs": [
        {
          "output_type": "execute_result",
          "data": {
            "text/plain": [
              "'Hello! How can I assist you today?'"
            ],
            "application/vnd.google.colaboratory.intrinsic+json": {
              "type": "string"
            }
          },
          "metadata": {},
          "execution_count": 177
        }
      ]
    },
    {
      "cell_type": "code",
      "source": [
        "llm_translate = prompt | llm | output_parser\n",
        "llm_translate.invoke({'text': \"Hello, world!\", 'dest_lang': \"Turkish\"})"
      ],
      "metadata": {
        "colab": {
          "base_uri": "https://localhost:8080/"
        },
        "id": "fICNbzMQl6cl",
        "outputId": "7f65937b-efe0-4ede-f918-b8ceb0ac2069"
      },
      "execution_count": 178,
      "outputs": [
        {
          "output_type": "execute_result",
          "data": {
            "text/plain": [
              "{'org_lang': 'English',\n",
              " 'translation': 'Merhaba, dünya!',\n",
              " 'dest_lang': 'Turkish'}"
            ]
          },
          "metadata": {},
          "execution_count": 178
        }
      ]
    },
    {
      "cell_type": "code",
      "source": [
        "languages = {'TR': \"Turkish\", 'EN': \"English\", 'FR': \"French\", 'ES': \"Spanish\", 'DE': \"German\"}\n",
        "\n",
        "def translate(text: str, dest_lang: str):\n",
        "  if not text:\n",
        "    raise ValueError(\"Empty string provided to be translated, text cannot be empty.\")\n",
        "\n",
        "  if dest_lang in languages.keys():\n",
        "    dest_lang = languages[dest_lang]\n",
        "  elif dest_lang in languages.values():\n",
        "    dest_lang = dest_lang\n",
        "  else:\n",
        "    raise ValueError(f\"Invalid destination language provided: {dest_lang}\")\n",
        "\n",
        "  response = llm_translate.invoke({'text': text, 'dest_lang': dest_lang})\n",
        "  return response['translation']"
      ],
      "metadata": {
        "id": "pMWpopNr4X0y"
      },
      "execution_count": 179,
      "outputs": []
    },
    {
      "cell_type": "code",
      "source": [
        "translate(\"Merhaba, nasılsın?\", \"DE\")"
      ],
      "metadata": {
        "colab": {
          "base_uri": "https://localhost:8080/",
          "height": 36
        },
        "id": "qriASQNh5Egl",
        "outputId": "b0700a74-b9a0-4381-c57f-8a6cd670eacf"
      },
      "execution_count": 183,
      "outputs": [
        {
          "output_type": "execute_result",
          "data": {
            "text/plain": [
              "'Hallo, wie geht es dir?'"
            ],
            "application/vnd.google.colaboratory.intrinsic+json": {
              "type": "string"
            }
          },
          "metadata": {},
          "execution_count": 183
        }
      ]
    }
  ]
}